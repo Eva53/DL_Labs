{
 "cells": [
  {
   "cell_type": "markdown",
   "metadata": {},
   "source": [
    "# Лабораторная работа №6. Простой policy gradient алгоритм (REINFORCE)"
   ]
  },
  {
   "cell_type": "markdown",
   "metadata": {},
   "source": [
    "## Использование PyTorch\n",
    "Разработаем сеть на PyTorch для изучения\n",
    "CartPole-v0 с помощью градиента политик (REINFORCE)."
   ]
  },
  {
   "cell_type": "code",
   "execution_count": 28,
   "metadata": {},
   "outputs": [
    {
     "name": "stderr",
     "output_type": "stream",
     "text": [
      "/Library/Frameworks/Python.framework/Versions/3.12/lib/python3.12/site-packages/gym/envs/registration.py:555: UserWarning: \u001b[33mWARN: The environment CartPole-v0 is out of date. You should consider upgrading to version `v1`.\u001b[0m\n",
      "  logger.warn(\n"
     ]
    },
    {
     "data": {
      "text/plain": [
       "<matplotlib.image.AxesImage at 0x130b31f70>"
      ]
     },
     "execution_count": 28,
     "metadata": {},
     "output_type": "execute_result"
    },
    {
     "data": {
      "image/png": "[encoded data removed]",
      "text/plain": [
       "<Figure size 640x480 with 1 Axes>"
      ]
     },
     "metadata": {},
     "output_type": "display_data"
    }
   ],
   "source": [
    "import sys, os\n",
    "# Этот код создает виртуальный дисплей для рисования игровых изображений.\n",
    "# Это не будет иметь никакого эффекта, если на вашей машине есть монитор.\n",
    "if type(os.environ.get(\"DISPLAY\")) is not str or len(os.environ.get(\"DISPLAY\")) == 0:\n",
    "    os.environ['DISPLAY'] = ':1'\n",
    "\n",
    "import gym\n",
    "import numpy as np\n",
    "import matplotlib.pyplot as plt\n",
    "\n",
    "env = gym.make(\"CartPole-v0\", render_mode=\"rgb_array\") # gym compatibility: unwrap TimeLimit\n",
    "if hasattr(env, '_max_episode_steps'):\n",
    "    env = env.env\n",
    "env.reset()\n",
    "n_actions = env.action_space.n\n",
    "state_dim = env.observation_space.shape\n",
    "plt.imshow(env.render())"
   ]
  },
  {
   "cell_type": "code",
   "execution_count": 38,
   "metadata": {},
   "outputs": [],
   "source": [
    "import numpy as np\n",
    "import torch\n",
    "import torch.nn as nn\n",
    "import torch.nn.functional as F"
   ]
  },
  {
   "cell_type": "markdown",
   "metadata": {},
   "source": [
    "Для алгоритма REINFORCE нам понадобится модель, которая предсказывает\n",
    "вероятности действий при заданных состояниях. Для стабильной работы не\n",
    "включайте слой softmax в вашу сетевую архитектуру. Мы будем использовать\n",
    "softmax или log-softmax, где это уместно."
   ]
  },
  {
   "cell_type": "code",
   "execution_count": 87,
   "metadata": {},
   "outputs": [],
   "source": [
    "class PolicyGradientAgent(nn.Module):\n",
    "    def __init__(self, state_dim, n_actions):\n",
    "        super(PolicyGradientAgent, self).__init__()\n",
    "        self.fc1 = nn.Linear(state_dim, 128)\n",
    "        self.fc2 = nn.Linear(128, n_actions)\n",
    "\n",
    "    def forward(self, x):\n",
    "        x = F.relu(self.fc1(x))\n",
    "        logits = self.fc2(x)\n",
    "        return logits"
   ]
  },
  {
   "cell_type": "code",
   "execution_count": 80,
   "metadata": {},
   "outputs": [],
   "source": [
    "def predict_probs(states):\n",
    "    \"\"\"\n",
    "    Прогнозировать вероятности действий при заданных состояниях.\n",
    "    :paramstates: numpy массив форм [batch, state_shape]\n",
    "    :returns: numpy массив формы [пакет, n_actions]\n",
    "    \"\"\"\n",
    "    agent.eval()\n",
    "    \n",
    "    with torch.no_grad():\n",
    "        states_tensor = torch.tensor(states, dtype=torch.float32)\n",
    "        \n",
    "        logits = agent(states_tensor)\n",
    "        \n",
    "        probabilities = F.softmax(logits, dim=1)\n",
    "    \n",
    "    return probabilities.data.numpy()"
   ]
  },
  {
   "cell_type": "markdown",
   "metadata": {},
   "source": [
    "## Игра с моделью"
   ]
  },
  {
   "cell_type": "code",
   "execution_count": 83,
   "metadata": {},
   "outputs": [],
   "source": [
    "def generate_session(env, t_max=1000):\n",
    "    \"\"\"\n",
    "    Сыграйте полную сессию с агентом REINFORCE.\n",
    "    Возвращает последовательности состояний, действий и наград.\n",
    "    \"\"\"\n",
    "    # массивы для записи сессии\n",
    "    states, actions, rewards = [], [], []\n",
    "    s = env.reset()[0]\n",
    "\n",
    "    for t in range(t_max):\n",
    "        # массив вероятностей действий pi(a|s)\n",
    "        action_probs = predict_probs(np.array([s]))[0]\n",
    "        # Пример действия с заданной вероятностью\n",
    "        a = np.random.choice(n_actions, p=action_probs)\n",
    "        new_s, r, terminated, truncated, _ = env.step(a)\n",
    "        # записать историю сессий, для последующего обучения\n",
    "        states.append(s)\n",
    "        actions.append(a)\n",
    "        rewards.append(r)\n",
    "        s = new_s\n",
    "        if terminated or truncated:\n",
    "            break\n",
    "\n",
    "    return states, actions, rewards\n",
    "\n",
    "# Проверка\n",
    "states, actions, rewards = generate_session(env)"
   ]
  },
  {
   "cell_type": "markdown",
   "metadata": {},
   "source": [
    "## Расчет кумулятивных вознаграждений."
   ]
  },
  {
   "cell_type": "code",
   "execution_count": 85,
   "metadata": {},
   "outputs": [],
   "source": [
    "def get_cumulative_rewards(rewards, # вознаграждение на каждом шаге\n",
    "                           gamma=0.99 # дисконт для вознаграждение\n",
    "                           ):\n",
    "    \"\"\"\n",
    "    Возьмите список немедленных вознаграждений r(s,a) за всю сессию\n",
    "    и вычислить кумулятивную доходность (также известную как G(s,a) в Sutton '16).\n",
    "    G_t = r_t + гамма*r_{t+1} + гамма^2*r_{t+2} + ...\n",
    "    Простой способ вычислить кумулятивное вознаграждение состоит в том, чтобы выполнить\n",
    "    итерацию, начиная с последнего к первому временному шагу и рекуррентно вычислить G_t = r_t +\n",
    "    gamma*G_{t+1}\n",
    "    Вы должны вернуть массив/список кумулятивных вознаграждений с таким же количеством\n",
    "    элементов, как и в начальных вознаграждениях.\n",
    "    \"\"\"\n",
    "    # rewards = torch.tensor(rewards, dtype=torch.float32)\n",
    "    cumulative_rewards = torch.zeros_like(rewards, dtype=torch.float32)\n",
    "    G_t = 0\n",
    "    for t in reversed(range(len(rewards))):\n",
    "        G_t = rewards[t] + gamma * G_t\n",
    "        cumulative_rewards[t] = G_t\n",
    "    return cumulative_rewards"
   ]
  },
  {
   "cell_type": "code",
   "execution_count": 72,
   "metadata": {},
   "outputs": [
    {
     "name": "stdout",
     "output_type": "stream",
     "text": [
      "looks good!\n"
     ]
    }
   ],
   "source": [
    "assert len(get_cumulative_rewards(range(100))) == 100\n",
    "assert np.allclose(get_cumulative_rewards([0, 0, 1, 0, 0, 1, 0], gamma=0.9), [1.40049, 1.5561, 1.729, 0.81, 0.9, 1.0, 0.0])\n",
    "assert np.allclose(get_cumulative_rewards([0, 0, 1, -2, 3, -4, 0], gamma=0.5), [0.0625, 0.125, 0.25, -1.5, 1.0, -4.0, 0.0])\n",
    "assert np.allclose(get_cumulative_rewards([0, 0, 1, 2, 3, 4, 0], gamma=0), [0, 0, 1, 2, 3, 4, 0])\n",
    "print(\"looks good!\")"
   ]
  },
  {
   "cell_type": "markdown",
   "metadata": {},
   "source": [
    "## Функция потерь и обновления."
   ]
  },
  {
   "cell_type": "code",
   "execution_count": 75,
   "metadata": {},
   "outputs": [],
   "source": [
    "def train_on_session(states, actions, rewards):\n",
    "    \"\"\"в полном объеме обучает агента градиенту политики\"\"\"\n",
    "    \n",
    "    states = torch.tensor(states, dtype=torch.float32)\n",
    "    actions = torch.tensor(actions, dtype=torch.long)\n",
    "    rewards = torch.tensor(rewards, dtype=torch.float32)\n",
    "\n",
    "    logits = agent(states)\n",
    "    policy = F.softmax(logits, dim=1)\n",
    "    log_policy = F.log_softmax(logits, dim=1)\n",
    "\n",
    "    log_policy_for_actions = log_policy[torch.arange(len(actions)), actions]\n",
    "\n",
    "    cumulative_rewards = get_cumulative_rewards(rewards)\n",
    "\n",
    "    J = torch.mean(log_policy_for_actions * cumulative_rewards)\n",
    "\n",
    "    entropy = torch.mean(torch.sum(policy * log_policy, dim=1))\n",
    "\n",
    "    loss = -(J + 0.1 * entropy)\n",
    "\n",
    "    optimizer.zero_grad()\n",
    "    loss.backward()\n",
    "    optimizer.step()\n",
    "\n",
    "    return sum(rewards)"
   ]
  },
  {
   "cell_type": "markdown",
   "metadata": {},
   "source": [
    "## Актуальное обучение"
   ]
  },
  {
   "cell_type": "code",
   "execution_count": 88,
   "metadata": {},
   "outputs": [
    {
     "name": "stdout",
     "output_type": "stream",
     "text": [
      "mean reward: 21.950\n",
      "mean reward: 36.470\n",
      "mean reward: 44.830\n",
      "mean reward: 59.130\n",
      "mean reward: 83.340\n",
      "mean reward: 167.550\n",
      "mean reward: 136.500\n",
      "mean reward: 185.210\n",
      "mean reward: 302.100\n",
      "You Win!\n"
     ]
    }
   ],
   "source": [
    "agent = PolicyGradientAgent(state_dim[0], n_actions)\n",
    "optimizer = torch.optim.Adam(agent.parameters(), lr=1e-3)\n",
    "\n",
    "for i in range(100):\n",
    "    rewards = [train_on_session(*generate_session(env)) for _ in range(100)]  # создание новой сессии\n",
    "    print(\"mean reward: %.3f\" % (np.mean(rewards)))\n",
    "    if np.mean(rewards) > 300:\n",
    "        print(\"You Win!\")  # но обучение может быть продолжено\n",
    "        break"
   ]
  }
 ],
 "metadata": {
  "kernelspec": {
   "display_name": "Python 3",
   "language": "python",
   "name": "python3"
  },
  "language_info": {
   "codemirror_mode": {
    "name": "ipython",
    "version": 3
   },
   "file_extension": ".py",
   "mimetype": "text/x-python",
   "name": "python",
   "nbconvert_exporter": "python",
   "pygments_lexer": "ipython3",
   "version": "3.12.2"
  }
 },
 "nbformat": 4,
 "nbformat_minor": 2
}
